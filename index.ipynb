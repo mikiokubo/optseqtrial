{
 "cells": [
  {
   "cell_type": "markdown",
   "metadata": {},
   "source": [
    "# OptSeq Trial \n",
    "> Scheduling Optimization Solver Trial "
   ]
  },
  {
   "cell_type": "markdown",
   "metadata": {},
   "source": [
    "## How to Install to Jupyter Notebook (Labo) and/or Google Colaboratory"
   ]
  },
  {
   "cell_type": "markdown",
   "metadata": {},
   "source": [
    "## Install"
   ]
  },
  {
   "cell_type": "markdown",
   "metadata": {},
   "source": [
    "1. Clone from github:\n",
    "\n",
    "> `!git clone https://github.com/mikiokubo/optseqtrial.git`\n",
    "\n",
    "2. Move to optseq trial directry:\n",
    "\n",
    "> `cd optseqtrial`\n",
    "\n",
    "3. Change mode of execution file\n",
    "\n",
    " - for linux (Google Colab.)  \n",
    " > `!chmod +x optseq-linux`   \n",
    "\n",
    " - for Mac \n",
    " > `!chmod +x optseq-mac`  \n",
    "\n",
    "4. Import package and write a code:\n",
    "\n",
    "> `from optseqtrial.scop import *`\n",
    "\n",
    "5. (Option) Install other packages if necessarily: \n",
    "\n",
    "> `!pip install plotly`\n"
   ]
  },
  {
   "cell_type": "markdown",
   "metadata": {},
   "source": [
    "## How to use\n",
    "\n",
    "See https://mikiokubo.github.io/optseqtrial/  and  https://www.logopt.com/optseq/ \n",
    "\n",
    "Here is an example. "
   ]
  },
  {
   "cell_type": "code",
   "execution_count": null,
   "metadata": {},
   "outputs": [
    {
     "name": "stdout",
     "output_type": "stream",
     "text": [
      "\n",
      " ================ Now solving the problem ================ \n",
      "\n",
      "\n",
      "Solutions:\n",
      "    source   ---     0     0\n",
      "      sink   ---   122   122\n",
      "    Act[1]   ---     0    13\n",
      "    Act[2]   ---    33    58\n",
      "    Act[3]   ---    58    73\n",
      "    Act[4]   ---    95   122\n",
      "    Act[5]   ---    73    95\n"
     ]
    }
   ],
   "source": [
    "from optseqtrial.optseq import *\n",
    "model = Model()\n",
    "duration = {1: 13, 2: 25, 3: 15, 4: 27, 5: 22}\n",
    "act = {}\n",
    "mode = {}\n",
    "res=model.addResource(\"worker\",capacity=1)\n",
    "for i in duration:\n",
    "    act[i] = model.addActivity(f\"Act[{i}]\")\n",
    "    mode[i] = Mode(f\"Mode[{i}]\", duration[i])\n",
    "    mode[i].addResource(res,requirement=1)\n",
    "    act[i].addModes(mode[i])\n",
    "        \n",
    "# temporal (precedense) constraints\n",
    "model.addTemporal(act[1], act[2], delay = 20)\n",
    "model.addTemporal(act[1], act[3], delay = 20)\n",
    "model.addTemporal(act[2], act[4], delay=10)\n",
    "model.addTemporal(act[2], act[5], delay = 8)\n",
    "model.addTemporal(act[3], act[4], delay =10)\n",
    "\n",
    "model.Params.TimeLimit = 1\n",
    "model.Params.Makespan = True\n",
    "model.optimize()"
   ]
  }
 ],
 "metadata": {
  "kernelspec": {
   "display_name": "Python 3",
   "language": "python",
   "name": "python3"
  }
 },
 "nbformat": 4,
 "nbformat_minor": 4
}
