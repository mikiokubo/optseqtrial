{
 "cells": [
  {
   "cell_type": "markdown",
   "metadata": {},
   "source": [
    "# OptSeq Trial \n",
    "> Scheduling Optimization Solver Trial "
   ]
  },
  {
   "cell_type": "markdown",
   "metadata": {},
   "source": [
    "## How to Install to Jupyter Notebook (Labo) and/or Google Colaboratory"
   ]
  },
  {
   "cell_type": "markdown",
   "metadata": {},
   "source": [
    "## Install"
   ]
  },
  {
   "cell_type": "markdown",
   "metadata": {},
   "source": [
    "1. Clone from github:\n",
    "\n",
    "> `!git clone https://github.com/mikiokubo/optseqtrial.git`\n",
    "\n",
    "2. Move to optseq trial directry:\n",
    "\n",
    "> `cd optseqtrial`\n",
    "\n",
    "3. Change mode of execution file\n",
    "\n",
    " - for linux (Google Colab.)  \n",
    " > `!chmod +x optseq-linux`   \n",
    "\n",
    " - for Mac \n",
    " > `!chmod +x optseq-mac`  \n",
    "\n",
    "4. Import package and write a code:\n",
    "\n",
    "> `from optseqtrial.optseq import *`\n",
    "\n",
    "5. (Option) Install other packages if necessarily: \n",
    "\n",
    "> `!pip install plotly pandas numpy matplotlib`\n"
   ]
  },
  {
   "cell_type": "markdown",
   "metadata": {},
   "source": [
    "## How to use\n",
    "\n",
    "See https://mikiokubo.github.io/optseqtrial/  and  https://www.logopt.com/optseq/ \n",
    "\n",
    "Here is an example. "
   ]
  },
  {
   "cell_type": "code",
   "execution_count": null,
   "metadata": {},
   "outputs": [
    {
     "name": "stdout",
     "output_type": "stream",
     "text": [
      "\n",
      " ================ Now solving the problem ================ \n",
      "\n",
      "\n",
      "Solutions:\n",
      "    source   ---     0     0\n",
      "      sink   ---    55    55\n",
      "    Act[1]   ---     0    13\n",
      "    Act[2]   ---     0    25\n",
      "    Act[3]   ---    13    28\n",
      "    Act[4]   ---    28    55\n",
      "    Act[5]   ---    25    47\n"
     ]
    }
   ],
   "source": [
    "from optseqtrial.optseq import *\n",
    "\"\"\"\n",
    "Example 1\n",
    "PERT\n",
    "file name: Example1.py\n",
    "Copyright Log Opt Co., Ltd.\n",
    "\n",
    "Consider a 5-activity problem with precedence constraints between the activities.\n",
    "Such a problem is called PERT (Program Evaluation and Review Technique).\n",
    "The processing times (durations) of the activities are kept in the dictionary\n",
    " duration ={1:13, 2:25, 3:15, 4:27, 5:22 }.\n",
    "Precedence constraints are given by:\n",
    " Activity 1 -> Activity 3; Activity 2 -> Activity 4;\n",
    " Activity 3 -> Activity 4; and Activity 3 -> Activity 5.\n",
    "The objective is to find the maximum completion time (makespan) for all 5 activities.\n",
    "\"\"\"\n",
    "\n",
    "model = Model()\n",
    "duration = {1: 13, 2: 25, 3: 15, 4: 27, 5: 22}\n",
    "act = {}\n",
    "mode = {}\n",
    "for i in duration:\n",
    "    act[i] = model.addActivity(\"Act[{0}]\".format(i))\n",
    "    mode[i] = Mode(\"Mode[{0}]\".format(i), duration[i])\n",
    "    act[i].addModes(mode[i])\n",
    "\n",
    "# temporal (precedense) constraints\n",
    "model.addTemporal(act[1], act[3])\n",
    "model.addTemporal(act[2], act[4])\n",
    "model.addTemporal(act[2], act[5])\n",
    "model.addTemporal(act[3], act[4])\n",
    "\n",
    "model.Params.TimeLimit = 1\n",
    "model.Params.Makespan = True\n",
    "model.Params.TimeLimit = 1\n",
    "model.Params.Makespan = True\n",
    "model.optimize()"
   ]
  },
  {
   "cell_type": "code",
   "execution_count": null,
   "metadata": {},
   "outputs": [],
   "source": []
  }
 ],
 "metadata": {
  "kernelspec": {
   "display_name": "Python 3 (ipykernel)",
   "language": "python",
   "name": "python3"
  }
 },
 "nbformat": 4,
 "nbformat_minor": 4
}
