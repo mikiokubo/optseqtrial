{
 "cells": [
  {
   "cell_type": "markdown",
   "metadata": {},
   "source": [
    "# OptSeq Trial \n",
    "> Scheduling Optimization Solver Trial "
   ]
  },
  {
   "cell_type": "markdown",
   "metadata": {},
   "source": [
    "## How to Install to Jupyter Notebook (Labo) and/or Google Colaboratory"
   ]
  },
  {
   "cell_type": "markdown",
   "metadata": {},
   "source": [
    "## Install"
   ]
  },
  {
   "cell_type": "markdown",
   "metadata": {},
   "source": [
    "1. Clone from github:\n",
    "\n",
    "> `!git clone https://github.com/mikiokubo/scoptrial.git`\n",
    "\n",
    "2. Move to scoptrial directry:\n",
    "\n",
    "> `cd scoptrial`\n",
    "\n",
    "3. Change mode of execution file\n",
    "\n",
    " - for linux (Google Colab.)  \n",
    " > `!chmod +x scop-linux`   \n",
    "\n",
    " - for Mac \n",
    " > `!chmod +x scop-max`  \n",
    "\n",
    "4. Import package and write a code:\n",
    "\n",
    "> `from scoptrial.scop import *`\n",
    "\n",
    "5. (Option) Install other packages if necessarily: \n",
    "\n",
    "> `!pip install plotly`\n",
    "\n"
   ]
  },
  {
   "cell_type": "markdown",
   "metadata": {},
   "source": [
    "## How to use\n",
    "\n",
    "See https://mikiokubo.github.io/optseqtrial/  and  https://www.logopt.com/optseq/ \n",
    "\n",
    "Here is an example. "
   ]
  },
  {
   "cell_type": "code",
   "execution_count": null,
   "metadata": {},
   "outputs": [],
   "source": []
  }
 ],
 "metadata": {
  "kernelspec": {
   "display_name": "Python 3",
   "language": "python",
   "name": "python3"
  }
 },
 "nbformat": 4,
 "nbformat_minor": 4
}
